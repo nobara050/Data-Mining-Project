{
 "cells": [
  {
   "cell_type": "code",
   "execution_count": null,
   "metadata": {},
   "outputs": [
    {
     "name": "stdout",
     "output_type": "stream",
     "text": [
      "          Loại  Số màu Kích thước Chất liệu Doanh số bán\n",
      "0   Điều khiển       3        Nhỏ   Nhựa PP          Cao\n",
      "1     Xếp hình       5        Vừa    Cao su         Thấp\n",
      "2     Xếp hình       7         To   Nhựa PP         Thấp\n",
      "3   Điều khiển       5        Nhỏ    Cao su         Thấp\n",
      "4       Búp bê       5        Nhỏ   Nhựa PP          Cao\n",
      "5   Điều khiển       5        Vừa   Nhựa PP          Cao\n",
      "6       Búp bê       5         To   Nhựa PP          Cao\n",
      "7   Điều khiển       7        Vừa    Cao su          Cao\n",
      "8     Xếp hình       7         To    Cao su          Cao\n",
      "9     Xếp hình       5        Nhỏ   Nhựa PP         Thấp\n",
      "10      Búp bê       7        Vừa   Nhựa PP          Cao\n",
      "11    Xếp hình       3         To   Nhựa PP         Thấp\n",
      "12      Búp bê       5        Vừa   Nhựa PP          Cao\n",
      "13      Búp bê       7         To   Nhựa PP          Cao\n"
     ]
    }
   ],
   "source": [
    "import pandas as pd\n",
    "\n",
    "# Tạo dataframe\n",
    "data = {\n",
    "    \"Loại\": [\"Điều khiển\", \"Xếp hình\", \"Xếp hình\", \"Điều khiển\", \"Búp bê\", \"Điều khiển\", \"Búp bê\", \"Điều khiển\",\n",
    "             \"Xếp hình\", \"Xếp hình\", \"Búp bê\", \"Xếp hình\", \"Búp bê\", \"Búp bê\"],\n",
    "    \"Số màu\": [3, 5, 7, 5, 5, 5, 5, 7, 7, 5, 7, 3, 5, 7],\n",
    "    \"Kích thước\": [\"Nhỏ\", \"Vừa\", \"To\", \"Nhỏ\", \"Nhỏ\", \"Vừa\", \"To\", \"Vừa\", \"To\", \"Nhỏ\", \"Vừa\", \"To\", \"Vừa\", \"To\"],\n",
    "    \"Chất liệu\": [\"Nhựa PP\", \"Cao su\", \"Nhựa PP\", \"Cao su\", \"Nhựa PP\", \"Nhựa PP\", \"Nhựa PP\", \"Cao su\", \"Cao su\",\n",
    "                  \"Nhựa PP\", \"Nhựa PP\", \"Nhựa PP\", \"Nhựa PP\", \"Nhựa PP\"],\n",
    "    \"Doanh số bán\": [\"Cao\", \"Thấp\", \"Thấp\", \"Thấp\", \"Cao\", \"Cao\", \"Cao\", \"Cao\", \"Cao\", \"Thấp\", \"Cao\", \"Thấp\", \"Cao\", \"Cao\"]\n",
    "}\n",
    "\n",
    "df = pd.DataFrame(data)\n",
    "\n",
    "# Hiển thị dataframe\n",
    "print(df)"
   ]
  },
  {
   "cell_type": "code",
   "execution_count": 2,
   "metadata": {},
   "outputs": [
    {
     "name": "stdout",
     "output_type": "stream",
     "text": [
      "File CSV đã được tạo thành công!\n"
     ]
    }
   ],
   "source": [
    "# Xuất dataframe ra file CSV\n",
    "df.to_csv('data_toys.csv', index=False, encoding='utf-8-sig')\n",
    "\n",
    "print(\"File CSV đã được tạo thành công!\")"
   ]
  },
  {
   "cell_type": "code",
   "execution_count": 3,
   "metadata": {},
   "outputs": [
    {
     "name": "stdout",
     "output_type": "stream",
     "text": [
      "File CSV đã được tạo thành công!\n"
     ]
    }
   ],
   "source": [
    "import pandas as pd\n",
    "\n",
    "# Tạo dataframe từ dữ liệu trong bảng\n",
    "data = {\n",
    "    \"Loại\": [\"Búp bê\", \"Xếp hình\", \"Điều khiển\"],\n",
    "    \"Số màu\": [3, 5, 3],\n",
    "    \"Kích thước\": [\"To\", \"To\", \"Vừa\"],\n",
    "    \"Chất liệu\": [\"Cao su\", \"Nhựa PP\", \"Cao su\"]\n",
    "}\n",
    "\n",
    "df = pd.DataFrame(data)\n",
    "\n",
    "# Xuất dataframe ra file CSV\n",
    "df.to_csv('data_selection.csv', index=False, encoding='utf-8-sig')\n",
    "\n",
    "print(\"File CSV đã được tạo thành công!\")\n"
   ]
  }
 ],
 "metadata": {
  "kernelspec": {
   "display_name": "doanmining",
   "language": "python",
   "name": "python3"
  },
  "language_info": {
   "codemirror_mode": {
    "name": "ipython",
    "version": 3
   },
   "file_extension": ".py",
   "mimetype": "text/x-python",
   "name": "python",
   "nbconvert_exporter": "python",
   "pygments_lexer": "ipython3",
   "version": "3.9.20"
  }
 },
 "nbformat": 4,
 "nbformat_minor": 2
}
